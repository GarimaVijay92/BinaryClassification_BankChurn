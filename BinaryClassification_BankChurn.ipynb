{
 "cells": [
  {
   "cell_type": "code",
   "execution_count": 23,
   "id": "bc73ace2",
   "metadata": {},
   "outputs": [],
   "source": [
    "import numpy as np\n",
    "import pandas as pd\n",
    "import matplotlib.pyplot as plt"
   ]
  },
  {
   "cell_type": "markdown",
   "id": "a66ca0ad",
   "metadata": {},
   "source": [
    "## Get Dataset"
   ]
  },
  {
   "cell_type": "code",
   "execution_count": 24,
   "id": "d15763f9",
   "metadata": {},
   "outputs": [
    {
     "data": {
      "text/html": [
       "<div>\n",
       "<style scoped>\n",
       "    .dataframe tbody tr th:only-of-type {\n",
       "        vertical-align: middle;\n",
       "    }\n",
       "\n",
       "    .dataframe tbody tr th {\n",
       "        vertical-align: top;\n",
       "    }\n",
       "\n",
       "    .dataframe thead th {\n",
       "        text-align: right;\n",
       "    }\n",
       "</style>\n",
       "<table border=\"1\" class=\"dataframe\">\n",
       "  <thead>\n",
       "    <tr style=\"text-align: right;\">\n",
       "      <th></th>\n",
       "      <th>id</th>\n",
       "      <th>CustomerId</th>\n",
       "      <th>Surname</th>\n",
       "      <th>CreditScore</th>\n",
       "      <th>Geography</th>\n",
       "      <th>Gender</th>\n",
       "      <th>Age</th>\n",
       "      <th>Tenure</th>\n",
       "      <th>Balance</th>\n",
       "      <th>NumOfProducts</th>\n",
       "      <th>HasCrCard</th>\n",
       "      <th>IsActiveMember</th>\n",
       "      <th>EstimatedSalary</th>\n",
       "      <th>Exited</th>\n",
       "    </tr>\n",
       "  </thead>\n",
       "  <tbody>\n",
       "    <tr>\n",
       "      <th>0</th>\n",
       "      <td>0</td>\n",
       "      <td>15772896.0</td>\n",
       "      <td>Pritchard</td>\n",
       "      <td>535.0</td>\n",
       "      <td>France</td>\n",
       "      <td>Male</td>\n",
       "      <td>44.0</td>\n",
       "      <td>8.0</td>\n",
       "      <td>108393.35</td>\n",
       "      <td>1.0</td>\n",
       "      <td>1.0</td>\n",
       "      <td>1.0</td>\n",
       "      <td>127528.84</td>\n",
       "      <td>0.0</td>\n",
       "    </tr>\n",
       "    <tr>\n",
       "      <th>1</th>\n",
       "      <td>1</td>\n",
       "      <td>15758063.0</td>\n",
       "      <td>Nkemakolam</td>\n",
       "      <td>549.0</td>\n",
       "      <td>France</td>\n",
       "      <td>Male</td>\n",
       "      <td>38.0</td>\n",
       "      <td>8.0</td>\n",
       "      <td>0.00</td>\n",
       "      <td>2.0</td>\n",
       "      <td>1.0</td>\n",
       "      <td>1.0</td>\n",
       "      <td>146891.07</td>\n",
       "      <td>0.0</td>\n",
       "    </tr>\n",
       "    <tr>\n",
       "      <th>2</th>\n",
       "      <td>2</td>\n",
       "      <td>15767231.0</td>\n",
       "      <td>Genovese</td>\n",
       "      <td>641.0</td>\n",
       "      <td>France</td>\n",
       "      <td>Male</td>\n",
       "      <td>34.0</td>\n",
       "      <td>5.0</td>\n",
       "      <td>0.00</td>\n",
       "      <td>2.0</td>\n",
       "      <td>0.0</td>\n",
       "      <td>1.0</td>\n",
       "      <td>171922.72</td>\n",
       "      <td>0.0</td>\n",
       "    </tr>\n",
       "    <tr>\n",
       "      <th>3</th>\n",
       "      <td>3</td>\n",
       "      <td>15762543.0</td>\n",
       "      <td>Nnachetam</td>\n",
       "      <td>692.0</td>\n",
       "      <td>Germany</td>\n",
       "      <td>Female</td>\n",
       "      <td>34.0</td>\n",
       "      <td>7.0</td>\n",
       "      <td>78892.23</td>\n",
       "      <td>1.0</td>\n",
       "      <td>1.0</td>\n",
       "      <td>1.0</td>\n",
       "      <td>121592.50</td>\n",
       "      <td>0.0</td>\n",
       "    </tr>\n",
       "    <tr>\n",
       "      <th>4</th>\n",
       "      <td>4</td>\n",
       "      <td>15747358.0</td>\n",
       "      <td>Chinwemma</td>\n",
       "      <td>681.0</td>\n",
       "      <td>France</td>\n",
       "      <td>Male</td>\n",
       "      <td>41.0</td>\n",
       "      <td>5.0</td>\n",
       "      <td>0.00</td>\n",
       "      <td>2.0</td>\n",
       "      <td>0.0</td>\n",
       "      <td>0.0</td>\n",
       "      <td>100791.36</td>\n",
       "      <td>0.0</td>\n",
       "    </tr>\n",
       "  </tbody>\n",
       "</table>\n",
       "</div>"
      ],
      "text/plain": [
       "   id  CustomerId     Surname  CreditScore Geography  Gender   Age  Tenure  \\\n",
       "0   0  15772896.0   Pritchard        535.0    France    Male  44.0     8.0   \n",
       "1   1  15758063.0  Nkemakolam        549.0    France    Male  38.0     8.0   \n",
       "2   2  15767231.0    Genovese        641.0    France    Male  34.0     5.0   \n",
       "3   3  15762543.0   Nnachetam        692.0   Germany  Female  34.0     7.0   \n",
       "4   4  15747358.0   Chinwemma        681.0    France    Male  41.0     5.0   \n",
       "\n",
       "     Balance  NumOfProducts  HasCrCard  IsActiveMember  EstimatedSalary  \\\n",
       "0  108393.35            1.0        1.0             1.0        127528.84   \n",
       "1       0.00            2.0        1.0             1.0        146891.07   \n",
       "2       0.00            2.0        0.0             1.0        171922.72   \n",
       "3   78892.23            1.0        1.0             1.0        121592.50   \n",
       "4       0.00            2.0        0.0             0.0        100791.36   \n",
       "\n",
       "   Exited  \n",
       "0     0.0  \n",
       "1     0.0  \n",
       "2     0.0  \n",
       "3     0.0  \n",
       "4     0.0  "
      ]
     },
     "execution_count": 24,
     "metadata": {},
     "output_type": "execute_result"
    }
   ],
   "source": [
    "German = pd.read_csv('train.csv')\n",
    "German.head()"
   ]
  },
  {
   "cell_type": "code",
   "execution_count": 25,
   "id": "0efbb128",
   "metadata": {},
   "outputs": [],
   "source": [
    "#Setting id as Index\n",
    "German.set_index('id', inplace=True)"
   ]
  },
  {
   "cell_type": "code",
   "execution_count": 26,
   "id": "1a423a64",
   "metadata": {},
   "outputs": [
    {
     "name": "stdout",
     "output_type": "stream",
     "text": [
      "<class 'pandas.core.frame.DataFrame'>\n",
      "Index: 15000 entries, 0 to 14999\n",
      "Data columns (total 13 columns):\n",
      " #   Column           Non-Null Count  Dtype  \n",
      "---  ------           --------------  -----  \n",
      " 0   CustomerId       15000 non-null  float64\n",
      " 1   Surname          15000 non-null  object \n",
      " 2   CreditScore      15000 non-null  float64\n",
      " 3   Geography        15000 non-null  object \n",
      " 4   Gender           15000 non-null  object \n",
      " 5   Age              15000 non-null  float64\n",
      " 6   Tenure           15000 non-null  float64\n",
      " 7   Balance          15000 non-null  float64\n",
      " 8   NumOfProducts    15000 non-null  float64\n",
      " 9   HasCrCard        15000 non-null  float64\n",
      " 10  IsActiveMember   15000 non-null  float64\n",
      " 11  EstimatedSalary  15000 non-null  float64\n",
      " 12  Exited           15000 non-null  float64\n",
      "dtypes: float64(10), object(3)\n",
      "memory usage: 1.6+ MB\n"
     ]
    }
   ],
   "source": [
    "German.info()"
   ]
  },
  {
   "cell_type": "code",
   "execution_count": 27,
   "id": "7c22f3a4",
   "metadata": {},
   "outputs": [
    {
     "data": {
      "text/plain": [
       "CustomerId\n",
       "15641640.0    20\n",
       "15662494.0    18\n",
       "15686963.0    17\n",
       "15587562.0    16\n",
       "15793331.0    16\n",
       "              ..\n",
       "15801296.0     1\n",
       "15598700.0     1\n",
       "15615296.0     1\n",
       "15762855.0     1\n",
       "15700714.0     1\n",
       "Name: count, Length: 6357, dtype: int64"
      ]
     },
     "execution_count": 27,
     "metadata": {},
     "output_type": "execute_result"
    }
   ],
   "source": [
    "German['CustomerId'].value_counts()"
   ]
  },
  {
   "cell_type": "code",
   "execution_count": 28,
   "id": "f3533b85",
   "metadata": {},
   "outputs": [
    {
     "data": {
      "text/plain": [
       "Exited\n",
       "0.0    11970\n",
       "1.0     3030\n",
       "Name: count, dtype: int64"
      ]
     },
     "execution_count": 28,
     "metadata": {},
     "output_type": "execute_result"
    }
   ],
   "source": [
    "German['Exited'].value_counts()"
   ]
  },
  {
   "cell_type": "markdown",
   "id": "74506ae7",
   "metadata": {},
   "source": [
    "## Preprocessing"
   ]
  },
  {
   "cell_type": "code",
   "execution_count": 29,
   "id": "a16071ba",
   "metadata": {},
   "outputs": [],
   "source": [
    "#Dropping Surname column\n",
    "German.drop(columns=['Surname', 'CustomerId'], inplace=True)"
   ]
  },
  {
   "cell_type": "code",
   "execution_count": 30,
   "id": "19bf0d83",
   "metadata": {},
   "outputs": [],
   "source": [
    "German['IsSenior'] = German['Age'].apply(lambda x: 1 if x >= 60 else 0)\n",
    "German['IsActive_by_CreditCard'] = German['HasCrCard'] * German['IsActiveMember']\n",
    "German['Products_Per_Tenure'] =  German['Tenure'] / German['NumOfProducts']"
   ]
  },
  {
   "cell_type": "code",
   "execution_count": 31,
   "id": "82c6d915",
   "metadata": {
    "scrolled": true
   },
   "outputs": [
    {
     "data": {
      "text/plain": [
       "CreditScore               0\n",
       "Geography                 0\n",
       "Gender                    0\n",
       "Age                       0\n",
       "Tenure                    0\n",
       "Balance                   0\n",
       "NumOfProducts             0\n",
       "HasCrCard                 0\n",
       "IsActiveMember            0\n",
       "EstimatedSalary           0\n",
       "Exited                    0\n",
       "IsSenior                  0\n",
       "IsActive_by_CreditCard    0\n",
       "Products_Per_Tenure       0\n",
       "dtype: int64"
      ]
     },
     "execution_count": 31,
     "metadata": {},
     "output_type": "execute_result"
    }
   ],
   "source": [
    "German.isnull().sum()"
   ]
  },
  {
   "cell_type": "markdown",
   "id": "701ff21c",
   "metadata": {},
   "source": [
    "## Data Distribution"
   ]
  },
  {
   "cell_type": "code",
   "execution_count": 32,
   "id": "9c4c38ab",
   "metadata": {},
   "outputs": [
    {
     "data": {
      "image/png": "[encoded data removed]",
      "text/plain": [
       "<Figure size 1600x1000 with 12 Axes>"
      ]
     },
     "metadata": {},
     "output_type": "display_data"
    }
   ],
   "source": [
    "German.hist(bins=50, figsize=(16,10))\n",
    "plt.show()"
   ]
  },
  {
   "cell_type": "markdown",
   "id": "c9fc8b92",
   "metadata": {},
   "source": [
    "## Train-valid split"
   ]
  },
  {
   "cell_type": "code",
   "execution_count": 33,
   "id": "ddb804ac",
   "metadata": {},
   "outputs": [],
   "source": [
    "from sklearn.model_selection import train_test_split\n",
    "\n",
    "X=German.drop(columns=['Exited'])\n",
    "y=German['Exited']\n",
    "\n",
    "X_train, X_valid, y_train, y_valid = train_test_split(X, y, stratify=y, random_state=0)"
   ]
  },
  {
   "cell_type": "code",
   "execution_count": 34,
   "id": "93b9e076",
   "metadata": {},
   "outputs": [
    {
     "name": "stdout",
     "output_type": "stream",
     "text": [
      "X_train shape: (11250, 13)\n",
      "X_valid shape: (3750, 13)\n",
      "y_train shape: (11250,)\n",
      "y_valid shape: (3750,)\n"
     ]
    }
   ],
   "source": [
    "print(f'X_train shape: {X_train.shape}')\n",
    "print(f'X_valid shape: {X_valid.shape}')\n",
    "print(f'y_train shape: {y_train.shape}')\n",
    "print(f'y_valid shape: {y_valid.shape}')"
   ]
  },
  {
   "cell_type": "markdown",
   "id": "f0d2de43",
   "metadata": {},
   "source": [
    "## Pipeline"
   ]
  },
  {
   "cell_type": "code",
   "execution_count": 35,
   "id": "cfa62ce8",
   "metadata": {},
   "outputs": [],
   "source": [
    "from sklearn.pipeline import Pipeline\n",
    "from sklearn.pipeline import make_pipeline\n",
    "from sklearn.preprocessing import PowerTransformer, OneHotEncoder, QuantileTransformer, MinMaxScaler, StandardScaler, FunctionTransformer\n",
    "from sklearn.compose import ColumnTransformer\n"
   ]
  },
  {
   "cell_type": "markdown",
   "id": "d7ceedf8",
   "metadata": {},
   "source": [
    "### Creating attributes"
   ]
  },
  {
   "cell_type": "code",
   "execution_count": 36,
   "id": "940b8536",
   "metadata": {},
   "outputs": [
    {
     "data": {
      "text/plain": [
       "Index(['CreditScore', 'Geography', 'Gender', 'Age', 'Tenure', 'Balance',\n",
       "       'NumOfProducts', 'HasCrCard', 'IsActiveMember', 'EstimatedSalary',\n",
       "       'IsSenior', 'IsActive_by_CreditCard', 'Products_Per_Tenure'],\n",
       "      dtype='object')"
      ]
     },
     "execution_count": 36,
     "metadata": {},
     "output_type": "execute_result"
    }
   ],
   "source": [
    "X_train.columns"
   ]
  },
  {
   "cell_type": "code",
   "execution_count": 37,
   "id": "fbfe12c1",
   "metadata": {},
   "outputs": [],
   "source": [
    "power_attrs = ['Age'] #skewed \n",
    "quant_attrs = ['CreditScore', 'Tenure', 'Products_Per_Tenure']\n",
    "numeric_attrs = ['Balance','NumOfProducts','HasCrCard', 'IsActiveMember', 'EstimatedSalary', \n",
    "                 'IsSenior', 'IsActive_by_CreditCard', ]\n",
    "cat_attrs = ['Geography', 'Gender']"
   ]
  },
  {
   "cell_type": "markdown",
   "id": "318e52ec",
   "metadata": {},
   "source": [
    "### Creating pipelines"
   ]
  },
  {
   "cell_type": "code",
   "execution_count": 38,
   "id": "74414375",
   "metadata": {},
   "outputs": [],
   "source": [
    "quant_pipeline = Pipeline([('quantile transformer', QuantileTransformer(n_quantiles=100)), ('standard scaler', StandardScaler())])\n",
    "power_pipeline = Pipeline([('power transform', PowerTransformer(method = 'box-cox'))])\n",
    "cat_pipeline = Pipeline([(\"categorical transform\", OneHotEncoder(handle_unknown=\"ignore\", sparse_output=False))])\n",
    "numperic_pipeline = Pipeline([(\"numeric transform\", StandardScaler())])\n",
    "\n",
    "preprocessing = ColumnTransformer([\n",
    "    ('numeric', 'passthrough', numeric_attrs),\n",
    "    ('quant', quant_pipeline, quant_attrs),\n",
    "    ('power', power_pipeline, power_attrs),\n",
    "    ('cat', cat_pipeline, cat_attrs)\n",
    "])"
   ]
  },
  {
   "cell_type": "markdown",
   "id": "84025a33",
   "metadata": {},
   "source": [
    "## HyperParameter Optimization"
   ]
  },
  {
   "cell_type": "code",
   "execution_count": 39,
   "id": "012a8101",
   "metadata": {},
   "outputs": [],
   "source": [
    "from sklearn.model_selection import RandomizedSearchCV\n",
    "from sklearn.linear_model import LogisticRegression\n",
    "from sklearn.ensemble import RandomForestClassifier, GradientBoostingClassifier, AdaBoostClassifier\n",
    "from xgboost import XGBClassifier\n",
    "from lightgbm import LGBMClassifier\n",
    "from catboost import CatBoostClassifier\n",
    "from sklearn.tree import DecisionTreeClassifier\n",
    "from sklearn.neighbors import KNeighborsClassifier\n",
    "from sklearn.metrics import accuracy_score, f1_score, roc_auc_score, make_scorer\n",
    "from sklearn.svm import SVC, LinearSVC\n",
    "from sklearn.model_selection import GridSearchCV, StratifiedKFold, cross_val_score\n"
   ]
  },
  {
   "cell_type": "markdown",
   "id": "a6a32f68",
   "metadata": {},
   "source": [
    "### Grid Search for hyperparameter optimization"
   ]
  },
  {
   "cell_type": "code",
   "execution_count": 40,
   "id": "1e70f932",
   "metadata": {},
   "outputs": [],
   "source": [
    "classifiers = {\n",
    "    'logisticregression': LogisticRegression(max_iter=1000, random_state=42),\n",
    "    'randomforest': RandomForestClassifier(random_state=42),\n",
    "    'gradientboosting': GradientBoostingClassifier(random_state=42),\n",
    "    'xgboost': XGBClassifier(use_label_encoder=False, eval_metric='logloss', random_state=42),\n",
    "    'lightgbm': LGBMClassifier(random_state=42),\n",
    "    'catboost': CatBoostClassifier(verbose=0, random_state=42),\n",
    "    'decisiontree': DecisionTreeClassifier(random_state=42),\n",
    "    'adaboost': AdaBoostClassifier(random_state=42)\n",
    "}"
   ]
  },
  {
   "cell_type": "code",
   "execution_count": 41,
   "id": "72f1d335",
   "metadata": {},
   "outputs": [],
   "source": [
    "param_grids = {\n",
    "    'logisticregression': {\n",
    "        'classifier__C': [0.01, 0.1, 1, 10, 100],\n",
    "        'classifier__penalty': ['l1', 'l2'],\n",
    "        'classifier__solver': ['liblinear', 'saga']\n",
    "    },\n",
    "    'randomforest': {\n",
    "        'classifier__n_estimators': [50, 100, 200],\n",
    "        'classifier__max_depth': [10, 20, 30, 40],\n",
    "        'classifier__min_samples_split': [2, 5, 10],\n",
    "        'classifier__min_samples_leaf': [1, 2, 4]\n",
    "    },\n",
    "    'gradientboosting': {\n",
    "        'classifier__n_estimators': [100, 200, 300],\n",
    "        'classifier__learning_rate': [0.01, 0.1, 0.2],\n",
    "        'classifier__max_depth': [10, 20, 30, 40],\n",
    "        'classifier__subsample': [0.8, 0.9, 1.0]\n",
    "    },\n",
    "    'xgboost': {\n",
    "        'classifier__n_estimators': [100, 200, 300],\n",
    "        'classifier__learning_rate': [0.01, 0.1, 0.2],\n",
    "        'classifier__max_depth': [5, 15, 20, 25],\n",
    "        'classifier__colsample_bytree': [0.8, 0.9, 1.0]\n",
    "    },\n",
    "    'lightgbm': {\n",
    "        'classifier__n_estimators': [100, 200, 300],\n",
    "        'classifier__learning_rate': [0.01, 0.1, 0.2],\n",
    "        'classifier__num_leaves': [31, 50, 100],\n",
    "        'classifier__subsample': [0.8, 0.9, 1.0]\n",
    "    },\n",
    "    'catboost': {\n",
    "        'classifier__iterations': [100, 200, 300],\n",
    "        'classifier__learning_rate': [0.01, 0.1, 0.2],\n",
    "        'classifier__depth': [5, 15, 20, 25]\n",
    "    },\n",
    "    'decisiontree': {\n",
    "        'classifier__max_depth': [10, 20, 30, 40],\n",
    "        'classifier__min_samples_split': [2, 5, 10],\n",
    "        'classifier__min_samples_leaf': [1, 2, 4]\n",
    "    },\n",
    "    'adaboost': {\n",
    "        'classifier__n_estimators': [50, 100, 200],\n",
    "        'classifier__learning_rate': [0.01, 0.1, 0.2, 0.5, 1.0]\n",
    "    }\n",
    "}"
   ]
  },
  {
   "cell_type": "code",
   "execution_count": 42,
   "id": "7d9a5126",
   "metadata": {
    "scrolled": true
   },
   "outputs": [
    {
     "name": "stdout",
     "output_type": "stream",
     "text": [
      "Optimizing logisticregression...\n",
      "Best parameters for logisticregression: {'classifier__C': 10, 'classifier__penalty': 'l1', 'classifier__solver': 'liblinear'}\n",
      "Best ROC AUC for logisticregression: 0.8829457351627564\n",
      "\n",
      "Optimizing randomforest...\n",
      "Best parameters for randomforest: {'classifier__max_depth': 10, 'classifier__min_samples_leaf': 2, 'classifier__min_samples_split': 2, 'classifier__n_estimators': 200}\n",
      "Best ROC AUC for randomforest: 0.9265042599713791\n",
      "\n",
      "Optimizing gradientboosting...\n",
      "Best parameters for gradientboosting: {'classifier__learning_rate': 0.01, 'classifier__max_depth': 10, 'classifier__n_estimators': 300, 'classifier__subsample': 0.8}\n",
      "Best ROC AUC for gradientboosting: 0.9205662422267309\n",
      "\n",
      "Optimizing xgboost...\n"
     ]
    },
    {
     "name": "stderr",
     "output_type": "stream",
     "text": [
      "C:\\Users\\vijay\\anaconda3\\Lib\\site-packages\\xgboost\\core.py:158: UserWarning: [14:16:48] WARNING: C:\\buildkite-agent\\builds\\buildkite-windows-cpu-autoscaling-group-i-06abd128ca6c1688d-1\\xgboost\\xgboost-ci-windows\\src\\learner.cc:740: \n",
      "Parameters: { \"use_label_encoder\" } are not used.\n",
      "\n",
      "  warnings.warn(smsg, UserWarning)\n"
     ]
    },
    {
     "name": "stdout",
     "output_type": "stream",
     "text": [
      "Best parameters for xgboost: {'classifier__colsample_bytree': 0.9, 'classifier__learning_rate': 0.01, 'classifier__max_depth': 5, 'classifier__n_estimators': 300}\n",
      "Best ROC AUC for xgboost: 0.9293612391378211\n",
      "\n",
      "Optimizing lightgbm...\n",
      "[LightGBM] [Info] Number of positive: 2273, number of negative: 8977\n",
      "[LightGBM] [Info] Auto-choosing row-wise multi-threading, the overhead of testing was 0.002420 seconds.\n",
      "You can set `force_row_wise=true` to remove the overhead.\n",
      "And if memory is not enough, you can set `force_col_wise=true`.\n",
      "[LightGBM] [Info] Total Bins 879\n",
      "[LightGBM] [Info] Number of data points in the train set: 11250, number of used features: 16\n",
      "[LightGBM] [Info] [binary:BoostFromScore]: pavg=0.202044 -> initscore=-1.373565\n",
      "[LightGBM] [Info] Start training from score -1.373565\n",
      "Best parameters for lightgbm: {'classifier__learning_rate': 0.01, 'classifier__n_estimators': 300, 'classifier__num_leaves': 31, 'classifier__subsample': 0.8}\n",
      "Best ROC AUC for lightgbm: 0.9282908019475634\n",
      "\n",
      "Optimizing catboost...\n"
     ]
    },
    {
     "name": "stderr",
     "output_type": "stream",
     "text": [
      "C:\\Users\\vijay\\anaconda3\\Lib\\site-packages\\sklearn\\model_selection\\_validation.py:425: FitFailedWarning: \n",
      "90 fits failed out of a total of 180.\n",
      "The score on these train-test partitions for these parameters will be set to nan.\n",
      "If these failures are not expected, you can try to debug them by setting error_score='raise'.\n",
      "\n",
      "Below are more details about the failures:\n",
      "--------------------------------------------------------------------------------\n",
      "90 fits failed with the following error:\n",
      "Traceback (most recent call last):\n",
      "  File \"C:\\Users\\vijay\\anaconda3\\Lib\\site-packages\\sklearn\\model_selection\\_validation.py\", line 729, in _fit_and_score\n",
      "    estimator.fit(X_train, y_train, **fit_params)\n",
      "  File \"C:\\Users\\vijay\\anaconda3\\Lib\\site-packages\\sklearn\\base.py\", line 1152, in wrapper\n",
      "    return fit_method(estimator, *args, **kwargs)\n",
      "           ^^^^^^^^^^^^^^^^^^^^^^^^^^^^^^^^^^^^^^\n",
      "  File \"C:\\Users\\vijay\\anaconda3\\Lib\\site-packages\\sklearn\\pipeline.py\", line 427, in fit\n",
      "    self._final_estimator.fit(Xt, y, **fit_params_last_step)\n",
      "  File \"C:\\Users\\vijay\\anaconda3\\Lib\\site-packages\\catboost\\core.py\", line 5220, in fit\n",
      "    self._fit(X, y, cat_features, text_features, embedding_features, None, sample_weight, None, None, None, None, baseline, use_best_model,\n",
      "  File \"C:\\Users\\vijay\\anaconda3\\Lib\\site-packages\\catboost\\core.py\", line 2385, in _fit\n",
      "    train_params = self._prepare_train_params(\n",
      "                   ^^^^^^^^^^^^^^^^^^^^^^^^^^^\n",
      "  File \"C:\\Users\\vijay\\anaconda3\\Lib\\site-packages\\catboost\\core.py\", line 2311, in _prepare_train_params\n",
      "    _check_train_params(params)\n",
      "  File \"_catboost.pyx\", line 6393, in _catboost._check_train_params\n",
      "  File \"_catboost.pyx\", line 6415, in _catboost._check_train_params\n",
      "_catboost.CatBoostError: C:/Go_Agent/pipelines/BuildMaster/catboost.git/catboost/private/libs/options/oblivious_tree_options.cpp:128: Maximum tree depth is 16\n",
      "\n",
      "  warnings.warn(some_fits_failed_message, FitFailedWarning)\n",
      "C:\\Users\\vijay\\anaconda3\\Lib\\site-packages\\sklearn\\model_selection\\_search.py:979: UserWarning: One or more of the test scores are non-finite: [0.92153955 0.93139593 0.93169792 0.92864248 0.9291823  0.92531351\n",
      " 0.93033281 0.92765986 0.92230045 0.92328914 0.92341215 0.9186387\n",
      " 0.92490311 0.91420623 0.91150116 0.92344556 0.91336018 0.91118739\n",
      "        nan        nan        nan        nan        nan        nan\n",
      "        nan        nan        nan        nan        nan        nan\n",
      "        nan        nan        nan        nan        nan        nan]\n",
      "  warnings.warn(\n"
     ]
    },
    {
     "name": "stdout",
     "output_type": "stream",
     "text": [
      "Best parameters for catboost: {'classifier__depth': 5, 'classifier__iterations': 100, 'classifier__learning_rate': 0.2}\n",
      "Best ROC AUC for catboost: 0.9316979210868294\n",
      "\n",
      "Optimizing decisiontree...\n",
      "Best parameters for decisiontree: {'classifier__max_depth': 10, 'classifier__min_samples_leaf': 4, 'classifier__min_samples_split': 10}\n",
      "Best ROC AUC for decisiontree: 0.8663953906455489\n",
      "\n",
      "Optimizing adaboost...\n",
      "Best parameters for adaboost: {'classifier__learning_rate': 0.1, 'classifier__n_estimators': 200}\n",
      "Best ROC AUC for adaboost: 0.9245268977560521\n",
      "\n"
     ]
    }
   ],
   "source": [
    "from sklearn.model_selection import KFold\n",
    "# Create a scoring function for evaluation\n",
    "scoring = {\n",
    "    'accuracy': make_scorer(accuracy_score),\n",
    "    'f1': make_scorer(f1_score),\n",
    "    'roc_auc': make_scorer(roc_auc_score)\n",
    "}\n",
    "\n",
    "kf = KFold(n_splits=5, shuffle=True, random_state=42)\n",
    "# Iterate through the classifiers and perform hyperparameter optimization\n",
    "best_models_grid = {}\n",
    "for name, classifier in classifiers.items():\n",
    "    print(f\"Optimizing {name}...\")\n",
    "    pipe = Pipeline(steps=[('preprocessing', preprocessing), ('classifier', classifier)])\n",
    "    search = GridSearchCV(pipe, param_grids[name], cv=kf, scoring='roc_auc', n_jobs=-1)\n",
    "    search.fit(X_train, y_train)\n",
    "    best_models_grid[name] = search.best_estimator_\n",
    "    print(f\"Best parameters for {name}: {search.best_params_}\")\n",
    "    print(f\"Best ROC AUC for {name}: {search.best_score_}\\n\")"
   ]
  },
  {
   "cell_type": "code",
   "execution_count": 43,
   "id": "2285048b",
   "metadata": {},
   "outputs": [
    {
     "name": "stdout",
     "output_type": "stream",
     "text": [
      "logisticregression - Valid Set Performance:\n",
      "Accuracy: 0.88\n",
      "F1 Score: 0.65\n",
      "ROC AUC Score: 0.76\n",
      "\n",
      "randomforest - Valid Set Performance:\n",
      "Accuracy: 0.90\n",
      "F1 Score: 0.71\n",
      "ROC AUC Score: 0.80\n",
      "\n",
      "gradientboosting - Valid Set Performance:\n",
      "Accuracy: 0.89\n",
      "F1 Score: 0.70\n",
      "ROC AUC Score: 0.79\n",
      "\n",
      "xgboost - Valid Set Performance:\n",
      "Accuracy: 0.90\n",
      "F1 Score: 0.72\n",
      "ROC AUC Score: 0.80\n",
      "\n",
      "lightgbm - Valid Set Performance:\n",
      "Accuracy: 0.90\n",
      "F1 Score: 0.72\n",
      "ROC AUC Score: 0.80\n",
      "\n",
      "catboost - Valid Set Performance:\n",
      "Accuracy: 0.90\n",
      "F1 Score: 0.72\n",
      "ROC AUC Score: 0.80\n",
      "\n",
      "decisiontree - Valid Set Performance:\n",
      "Accuracy: 0.87\n",
      "F1 Score: 0.67\n",
      "ROC AUC Score: 0.78\n",
      "\n",
      "adaboost - Valid Set Performance:\n",
      "Accuracy: 0.89\n",
      "F1 Score: 0.71\n",
      "ROC AUC Score: 0.80\n",
      "\n"
     ]
    }
   ],
   "source": [
    "# Evaluate the best models on the test set\n",
    "for name, model in best_models_grid.items():\n",
    "    y_pred = model.predict(X_valid)\n",
    "    accuracy = accuracy_score(y_valid, y_pred)\n",
    "    f1 = f1_score(y_valid, y_pred)\n",
    "    roc_auc = roc_auc_score(y_valid, y_pred)\n",
    "    print(f\"{name} - Valid Set Performance:\")\n",
    "    print(f\"Accuracy: {accuracy:.2f}\")\n",
    "    print(f\"F1 Score: {f1:.2f}\")\n",
    "    print(f\"ROC AUC Score: {roc_auc:.2f}\\n\")"
   ]
  },
  {
   "cell_type": "markdown",
   "id": "cc2e2d43",
   "metadata": {},
   "source": [
    "##### Voting classifier (grid search)"
   ]
  },
  {
   "cell_type": "code",
   "execution_count": 44,
   "id": "440c02b5",
   "metadata": {
    "scrolled": true
   },
   "outputs": [
    {
     "name": "stderr",
     "output_type": "stream",
     "text": [
      "C:\\Users\\vijay\\anaconda3\\Lib\\site-packages\\xgboost\\core.py:158: UserWarning: [15:52:55] WARNING: C:\\buildkite-agent\\builds\\buildkite-windows-cpu-autoscaling-group-i-06abd128ca6c1688d-1\\xgboost\\xgboost-ci-windows\\src\\learner.cc:740: \n",
      "Parameters: { \"use_label_encoder\" } are not used.\n",
      "\n",
      "  warnings.warn(smsg, UserWarning)\n"
     ]
    },
    {
     "name": "stdout",
     "output_type": "stream",
     "text": [
      "[LightGBM] [Info] Number of positive: 2273, number of negative: 8977\n",
      "[LightGBM] [Info] Auto-choosing row-wise multi-threading, the overhead of testing was 0.003067 seconds.\n",
      "You can set `force_row_wise=true` to remove the overhead.\n",
      "And if memory is not enough, you can set `force_col_wise=true`.\n",
      "[LightGBM] [Info] Total Bins 879\n",
      "[LightGBM] [Info] Number of data points in the train set: 11250, number of used features: 16\n",
      "[LightGBM] [Info] [binary:BoostFromScore]: pavg=0.202044 -> initscore=-1.373565\n",
      "[LightGBM] [Info] Start training from score -1.373565\n",
      "Ensemble Model - Valid Set Performance:\n",
      "Accuracy: 0.90\n",
      "F1 Score: 0.72\n",
      "ROC AUC Score: 0.93\n"
     ]
    }
   ],
   "source": [
    "from sklearn.ensemble import VotingClassifier, StackingClassifier\n",
    "voting_clf = VotingClassifier(\n",
    "    estimators=[(name, best_model) for name, best_model in best_models_grid.items()],\n",
    "    voting='soft'\n",
    ")\n",
    "\n",
    "# Fit the ensemble model\n",
    "voting_clf.fit(X_train, y_train)\n",
    "\n",
    "y_pred_prob = voting_clf.predict_proba(X_valid)[:, 1]\n",
    "\n",
    "# Evaluate the ensemble model on the test set\n",
    "accuracy = accuracy_score(y_valid, voting_clf.predict(X_valid))\n",
    "f1 = f1_score(y_valid, voting_clf.predict(X_valid))\n",
    "roc_auc = roc_auc_score(y_valid, y_pred_prob)\n",
    "\n",
    "print(f\"Ensemble Model - Valid Set Performance:\")\n",
    "print(f\"Accuracy: {accuracy:.2f}\")\n",
    "print(f\"F1 Score: {f1:.2f}\")\n",
    "print(f\"ROC AUC Score: {roc_auc:.2f}\")"
   ]
  },
  {
   "cell_type": "markdown",
   "id": "d3883147",
   "metadata": {},
   "source": [
    "##### Stacking (Grid search)"
   ]
  },
  {
   "cell_type": "code",
   "execution_count": 45,
   "id": "1ee0a3e3",
   "metadata": {
    "scrolled": true
   },
   "outputs": [
    {
     "name": "stderr",
     "output_type": "stream",
     "text": [
      "C:\\Users\\vijay\\anaconda3\\Lib\\site-packages\\xgboost\\core.py:158: UserWarning: [15:54:28] WARNING: C:\\buildkite-agent\\builds\\buildkite-windows-cpu-autoscaling-group-i-06abd128ca6c1688d-1\\xgboost\\xgboost-ci-windows\\src\\learner.cc:740: \n",
      "Parameters: { \"use_label_encoder\" } are not used.\n",
      "\n",
      "  warnings.warn(smsg, UserWarning)\n"
     ]
    },
    {
     "name": "stdout",
     "output_type": "stream",
     "text": [
      "[LightGBM] [Info] Number of positive: 2273, number of negative: 8977\n",
      "[LightGBM] [Info] Auto-choosing row-wise multi-threading, the overhead of testing was 0.001242 seconds.\n",
      "You can set `force_row_wise=true` to remove the overhead.\n",
      "And if memory is not enough, you can set `force_col_wise=true`.\n",
      "[LightGBM] [Info] Total Bins 879\n",
      "[LightGBM] [Info] Number of data points in the train set: 11250, number of used features: 16\n",
      "[LightGBM] [Info] [binary:BoostFromScore]: pavg=0.202044 -> initscore=-1.373565\n",
      "[LightGBM] [Info] Start training from score -1.373565\n"
     ]
    },
    {
     "name": "stderr",
     "output_type": "stream",
     "text": [
      "C:\\Users\\vijay\\anaconda3\\Lib\\site-packages\\xgboost\\core.py:158: UserWarning: [16:00:24] WARNING: C:\\buildkite-agent\\builds\\buildkite-windows-cpu-autoscaling-group-i-06abd128ca6c1688d-1\\xgboost\\xgboost-ci-windows\\src\\learner.cc:740: \n",
      "Parameters: { \"use_label_encoder\" } are not used.\n",
      "\n",
      "  warnings.warn(smsg, UserWarning)\n",
      "C:\\Users\\vijay\\anaconda3\\Lib\\site-packages\\xgboost\\core.py:158: UserWarning: [16:00:26] WARNING: C:\\buildkite-agent\\builds\\buildkite-windows-cpu-autoscaling-group-i-06abd128ca6c1688d-1\\xgboost\\xgboost-ci-windows\\src\\learner.cc:740: \n",
      "Parameters: { \"use_label_encoder\" } are not used.\n",
      "\n",
      "  warnings.warn(smsg, UserWarning)\n",
      "C:\\Users\\vijay\\anaconda3\\Lib\\site-packages\\xgboost\\core.py:158: UserWarning: [16:00:28] WARNING: C:\\buildkite-agent\\builds\\buildkite-windows-cpu-autoscaling-group-i-06abd128ca6c1688d-1\\xgboost\\xgboost-ci-windows\\src\\learner.cc:740: \n",
      "Parameters: { \"use_label_encoder\" } are not used.\n",
      "\n",
      "  warnings.warn(smsg, UserWarning)\n",
      "C:\\Users\\vijay\\anaconda3\\Lib\\site-packages\\xgboost\\core.py:158: UserWarning: [16:00:29] WARNING: C:\\buildkite-agent\\builds\\buildkite-windows-cpu-autoscaling-group-i-06abd128ca6c1688d-1\\xgboost\\xgboost-ci-windows\\src\\learner.cc:740: \n",
      "Parameters: { \"use_label_encoder\" } are not used.\n",
      "\n",
      "  warnings.warn(smsg, UserWarning)\n",
      "C:\\Users\\vijay\\anaconda3\\Lib\\site-packages\\xgboost\\core.py:158: UserWarning: [16:00:30] WARNING: C:\\buildkite-agent\\builds\\buildkite-windows-cpu-autoscaling-group-i-06abd128ca6c1688d-1\\xgboost\\xgboost-ci-windows\\src\\learner.cc:740: \n",
      "Parameters: { \"use_label_encoder\" } are not used.\n",
      "\n",
      "  warnings.warn(smsg, UserWarning)\n"
     ]
    },
    {
     "name": "stdout",
     "output_type": "stream",
     "text": [
      "[LightGBM] [Info] Number of positive: 1818, number of negative: 7182\n",
      "[LightGBM] [Info] Auto-choosing col-wise multi-threading, the overhead of testing was 0.002153 seconds.\n",
      "You can set `force_col_wise=true` to remove the overhead.\n",
      "[LightGBM] [Info] Total Bins 876\n",
      "[LightGBM] [Info] Number of data points in the train set: 9000, number of used features: 16\n",
      "[LightGBM] [Info] [binary:BoostFromScore]: pavg=0.202000 -> initscore=-1.373841\n",
      "[LightGBM] [Info] Start training from score -1.373841\n",
      "[LightGBM] [Info] Number of positive: 1818, number of negative: 7182\n",
      "[LightGBM] [Info] Auto-choosing row-wise multi-threading, the overhead of testing was 0.006061 seconds.\n",
      "You can set `force_row_wise=true` to remove the overhead.\n",
      "And if memory is not enough, you can set `force_col_wise=true`.\n",
      "[LightGBM] [Info] Total Bins 877\n",
      "[LightGBM] [Info] Number of data points in the train set: 9000, number of used features: 16\n",
      "[LightGBM] [Info] [binary:BoostFromScore]: pavg=0.202000 -> initscore=-1.373841\n",
      "[LightGBM] [Info] Start training from score -1.373841\n",
      "[LightGBM] [Info] Number of positive: 1818, number of negative: 7182\n",
      "[LightGBM] [Info] Auto-choosing row-wise multi-threading, the overhead of testing was 0.001408 seconds.\n",
      "You can set `force_row_wise=true` to remove the overhead.\n",
      "And if memory is not enough, you can set `force_col_wise=true`.\n",
      "[LightGBM] [Info] Total Bins 876\n",
      "[LightGBM] [Info] Number of data points in the train set: 9000, number of used features: 16\n",
      "[LightGBM] [Info] [binary:BoostFromScore]: pavg=0.202000 -> initscore=-1.373841\n",
      "[LightGBM] [Info] Start training from score -1.373841\n",
      "[LightGBM] [Info] Number of positive: 1819, number of negative: 7181\n",
      "[LightGBM] [Info] Auto-choosing row-wise multi-threading, the overhead of testing was 0.001172 seconds.\n",
      "You can set `force_row_wise=true` to remove the overhead.\n",
      "And if memory is not enough, you can set `force_col_wise=true`.\n",
      "[LightGBM] [Info] Total Bins 878\n",
      "[LightGBM] [Info] Number of data points in the train set: 9000, number of used features: 16\n",
      "[LightGBM] [Info] [binary:BoostFromScore]: pavg=0.202111 -> initscore=-1.373152\n",
      "[LightGBM] [Info] Start training from score -1.373152\n",
      "[LightGBM] [Info] Number of positive: 1819, number of negative: 7181\n",
      "[LightGBM] [Info] Auto-choosing row-wise multi-threading, the overhead of testing was 0.001853 seconds.\n",
      "You can set `force_row_wise=true` to remove the overhead.\n",
      "And if memory is not enough, you can set `force_col_wise=true`.\n",
      "[LightGBM] [Info] Total Bins 877\n",
      "[LightGBM] [Info] Number of data points in the train set: 9000, number of used features: 16\n",
      "[LightGBM] [Info] [binary:BoostFromScore]: pavg=0.202111 -> initscore=-1.373152\n",
      "[LightGBM] [Info] Start training from score -1.373152\n"
     ]
    }
   ],
   "source": [
    "sclf1 = StackingClassifier(estimators=[(name, best_model) for name, best_model in best_models_grid.items()])\n",
    "sclf1 = sclf1.fit(X_train, y_train)\n",
    "accuracy_sclf1 = sclf1.score(X_valid, y_valid)"
   ]
  },
  {
   "cell_type": "code",
   "execution_count": 46,
   "id": "28b1143b",
   "metadata": {},
   "outputs": [],
   "source": [
    "# Make predictions and output probabilities\n",
    "y_pred_prob_stack = sclf1.predict_proba(X_valid)[:, 1]\n",
    "\n",
    "# Round the probabilities to one decimal place\n",
    "y_pred_prob_stack_rounded = np.round(y_pred_prob_stack, 1)"
   ]
  },
  {
   "cell_type": "code",
   "execution_count": 47,
   "id": "8836bb23",
   "metadata": {},
   "outputs": [
    {
     "name": "stdout",
     "output_type": "stream",
     "text": [
      "Stacking Model - Valid Set Performance:\n",
      "Accuracy: 0.90\n",
      "F1 Score: 0.72\n",
      "ROC AUC Score: 0.93\n"
     ]
    }
   ],
   "source": [
    "# Evaluate the stacking model on the test set\n",
    "accuracy_stack = accuracy_score(y_valid, sclf1.predict(X_valid))\n",
    "f1_stack = f1_score(y_valid, sclf1.predict(X_valid))\n",
    "roc_auc_stack = roc_auc_score(y_valid, y_pred_prob_stack)\n",
    "\n",
    "print(f\"Stacking Model - Valid Set Performance:\")\n",
    "print(f\"Accuracy: {accuracy_stack:.2f}\")\n",
    "print(f\"F1 Score: {f1_stack:.2f}\")\n",
    "print(f\"ROC AUC Score: {roc_auc_stack:.2f}\")"
   ]
  },
  {
   "cell_type": "markdown",
   "id": "8d76d0c2",
   "metadata": {},
   "source": [
    "## Creating predictions"
   ]
  },
  {
   "cell_type": "code",
   "execution_count": 48,
   "id": "19f28e24",
   "metadata": {},
   "outputs": [],
   "source": [
    "X_test = pd.read_csv('test (2).csv')\n",
    "X_test.set_index('id', inplace=True)\n",
    "\n",
    "#Creating new features\n",
    "X_test['IsSenior'] = X_test['Age'].apply(lambda x: 1 if x >= 60 else 0)\n",
    "X_test['IsActive_by_CreditCard'] = X_test['HasCrCard'] * X_test['IsActiveMember']\n",
    "X_test['Products_Per_Tenure'] =  X_test['Tenure'] / X_test['NumOfProducts']\n",
    "\n",
    "#Dropping Surname column\n",
    "X_test.drop(columns=['Surname', 'CustomerId'], inplace=True)"
   ]
  },
  {
   "cell_type": "code",
   "execution_count": 49,
   "id": "ffc9f657",
   "metadata": {
    "scrolled": true
   },
   "outputs": [
    {
     "data": {
      "text/html": [
       "<div>\n",
       "<style scoped>\n",
       "    .dataframe tbody tr th:only-of-type {\n",
       "        vertical-align: middle;\n",
       "    }\n",
       "\n",
       "    .dataframe tbody tr th {\n",
       "        vertical-align: top;\n",
       "    }\n",
       "\n",
       "    .dataframe thead th {\n",
       "        text-align: right;\n",
       "    }\n",
       "</style>\n",
       "<table border=\"1\" class=\"dataframe\">\n",
       "  <thead>\n",
       "    <tr style=\"text-align: right;\">\n",
       "      <th></th>\n",
       "      <th>CreditScore</th>\n",
       "      <th>Geography</th>\n",
       "      <th>Gender</th>\n",
       "      <th>Age</th>\n",
       "      <th>Tenure</th>\n",
       "      <th>Balance</th>\n",
       "      <th>NumOfProducts</th>\n",
       "      <th>HasCrCard</th>\n",
       "      <th>IsActiveMember</th>\n",
       "      <th>EstimatedSalary</th>\n",
       "      <th>IsSenior</th>\n",
       "      <th>IsActive_by_CreditCard</th>\n",
       "      <th>Products_Per_Tenure</th>\n",
       "    </tr>\n",
       "    <tr>\n",
       "      <th>id</th>\n",
       "      <th></th>\n",
       "      <th></th>\n",
       "      <th></th>\n",
       "      <th></th>\n",
       "      <th></th>\n",
       "      <th></th>\n",
       "      <th></th>\n",
       "      <th></th>\n",
       "      <th></th>\n",
       "      <th></th>\n",
       "      <th></th>\n",
       "      <th></th>\n",
       "      <th></th>\n",
       "    </tr>\n",
       "  </thead>\n",
       "  <tbody>\n",
       "    <tr>\n",
       "      <th>15000</th>\n",
       "      <td>661.0</td>\n",
       "      <td>Germany</td>\n",
       "      <td>Male</td>\n",
       "      <td>32.0</td>\n",
       "      <td>5.0</td>\n",
       "      <td>113715.36</td>\n",
       "      <td>2.0</td>\n",
       "      <td>1.0</td>\n",
       "      <td>1.0</td>\n",
       "      <td>55816.20</td>\n",
       "      <td>0</td>\n",
       "      <td>1.0</td>\n",
       "      <td>2.5</td>\n",
       "    </tr>\n",
       "    <tr>\n",
       "      <th>15001</th>\n",
       "      <td>525.0</td>\n",
       "      <td>Spain</td>\n",
       "      <td>Female</td>\n",
       "      <td>37.0</td>\n",
       "      <td>3.0</td>\n",
       "      <td>0.00</td>\n",
       "      <td>2.0</td>\n",
       "      <td>0.0</td>\n",
       "      <td>1.0</td>\n",
       "      <td>160129.99</td>\n",
       "      <td>0</td>\n",
       "      <td>0.0</td>\n",
       "      <td>1.5</td>\n",
       "    </tr>\n",
       "    <tr>\n",
       "      <th>15002</th>\n",
       "      <td>585.0</td>\n",
       "      <td>Spain</td>\n",
       "      <td>Male</td>\n",
       "      <td>42.0</td>\n",
       "      <td>7.0</td>\n",
       "      <td>0.00</td>\n",
       "      <td>2.0</td>\n",
       "      <td>0.0</td>\n",
       "      <td>1.0</td>\n",
       "      <td>126160.24</td>\n",
       "      <td>0</td>\n",
       "      <td>0.0</td>\n",
       "      <td>3.5</td>\n",
       "    </tr>\n",
       "    <tr>\n",
       "      <th>15003</th>\n",
       "      <td>634.0</td>\n",
       "      <td>France</td>\n",
       "      <td>Male</td>\n",
       "      <td>39.0</td>\n",
       "      <td>2.0</td>\n",
       "      <td>0.00</td>\n",
       "      <td>2.0</td>\n",
       "      <td>1.0</td>\n",
       "      <td>0.0</td>\n",
       "      <td>163714.92</td>\n",
       "      <td>0</td>\n",
       "      <td>0.0</td>\n",
       "      <td>1.0</td>\n",
       "    </tr>\n",
       "    <tr>\n",
       "      <th>15004</th>\n",
       "      <td>546.0</td>\n",
       "      <td>France</td>\n",
       "      <td>Male</td>\n",
       "      <td>40.0</td>\n",
       "      <td>5.0</td>\n",
       "      <td>114318.23</td>\n",
       "      <td>1.0</td>\n",
       "      <td>0.0</td>\n",
       "      <td>0.0</td>\n",
       "      <td>189558.44</td>\n",
       "      <td>0</td>\n",
       "      <td>0.0</td>\n",
       "      <td>5.0</td>\n",
       "    </tr>\n",
       "  </tbody>\n",
       "</table>\n",
       "</div>"
      ],
      "text/plain": [
       "       CreditScore Geography  Gender   Age  Tenure    Balance  NumOfProducts  \\\n",
       "id                                                                             \n",
       "15000        661.0   Germany    Male  32.0     5.0  113715.36            2.0   \n",
       "15001        525.0     Spain  Female  37.0     3.0       0.00            2.0   \n",
       "15002        585.0     Spain    Male  42.0     7.0       0.00            2.0   \n",
       "15003        634.0    France    Male  39.0     2.0       0.00            2.0   \n",
       "15004        546.0    France    Male  40.0     5.0  114318.23            1.0   \n",
       "\n",
       "       HasCrCard  IsActiveMember  EstimatedSalary  IsSenior  \\\n",
       "id                                                            \n",
       "15000        1.0             1.0         55816.20         0   \n",
       "15001        0.0             1.0        160129.99         0   \n",
       "15002        0.0             1.0        126160.24         0   \n",
       "15003        1.0             0.0        163714.92         0   \n",
       "15004        0.0             0.0        189558.44         0   \n",
       "\n",
       "       IsActive_by_CreditCard  Products_Per_Tenure  \n",
       "id                                                  \n",
       "15000                     1.0                  2.5  \n",
       "15001                     0.0                  1.5  \n",
       "15002                     0.0                  3.5  \n",
       "15003                     0.0                  1.0  \n",
       "15004                     0.0                  5.0  "
      ]
     },
     "execution_count": 49,
     "metadata": {},
     "output_type": "execute_result"
    }
   ],
   "source": [
    "X_test.head()"
   ]
  },
  {
   "cell_type": "markdown",
   "id": "13941ae9",
   "metadata": {},
   "source": [
    "#### Voting classifier predictions (without Knn)"
   ]
  },
  {
   "cell_type": "code",
   "execution_count": 50,
   "id": "bbd073e4",
   "metadata": {},
   "outputs": [],
   "source": [
    "final_predictions_vote = voting_clf.predict_proba(X_test)[:, 1]\n",
    "final_predictions_vote_rounded = np.round(final_predictions_vote, 1)\n",
    "\n",
    "id = X_test.index\n",
    "predictions_df_vote = pd.DataFrame({'id': id, 'Exiting': final_predictions_vote_rounded})\n",
    "predictions_df_vote.to_csv('customerchurn_predictions_voting_grid_try.csv', index=False)"
   ]
  },
  {
   "cell_type": "markdown",
   "id": "023de68c",
   "metadata": {},
   "source": [
    "#### Stacking predictions (without Knn)"
   ]
  },
  {
   "cell_type": "code",
   "execution_count": 51,
   "id": "a3b7579e",
   "metadata": {},
   "outputs": [],
   "source": [
    "final_predictions_vote = sclf1.predict_proba(X_test)[:, 1]\n",
    "final_predictions_vote_rounded = np.round(final_predictions_vote, 1)\n",
    "\n",
    "id = X_test.index\n",
    "predictions_df_vote = pd.DataFrame({'id': id, 'Exiting': final_predictions_vote_rounded})\n",
    "predictions_df_vote.to_csv('customerchurn_predictions_stacking_grid_try.csv', index=False)"
   ]
  },
  {
   "cell_type": "code",
   "execution_count": null,
   "id": "f48d1125",
   "metadata": {},
   "outputs": [],
   "source": []
  }
 ],
 "metadata": {
  "kernelspec": {
   "display_name": "Python 3 (ipykernel)",
   "language": "python",
   "name": "python3"
  },
  "language_info": {
   "codemirror_mode": {
    "name": "ipython",
    "version": 3
   },
   "file_extension": ".py",
   "mimetype": "text/x-python",
   "name": "python",
   "nbconvert_exporter": "python",
   "pygments_lexer": "ipython3",
   "version": "3.11.5"
  }
 },
 "nbformat": 4,
 "nbformat_minor": 5
}
